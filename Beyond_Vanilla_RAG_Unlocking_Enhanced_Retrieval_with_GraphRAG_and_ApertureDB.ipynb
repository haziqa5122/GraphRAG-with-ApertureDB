{
  "nbformat": 4,
  "nbformat_minor": 0,
  "metadata": {
    "colab": {
      "provenance": []
    },
    "kernelspec": {
      "name": "python3",
      "display_name": "Python 3"
    },
    "language_info": {
      "name": "python"
    }
  },
  "cells": [
    {
      "cell_type": "code",
      "source": [
        "%pip install --quiet langchain langchain-openai langchain-experimental aperturedb openai"
      ],
      "metadata": {
        "colab": {
          "base_uri": "https://localhost:8080/"
        },
        "id": "31I7oYroV7Mq",
        "outputId": "a8708a66-ff40-47d1-9bec-fbe49a1854e3"
      },
      "execution_count": null,
      "outputs": [
        {
          "output_type": "stream",
          "name": "stdout",
          "text": [
            "\u001b[?25l   \u001b[90m━━━━━━━━━━━━━━━━━━━━━━━━━━━━━━━━━━━━━━━━\u001b[0m \u001b[32m0.0/55.3 kB\u001b[0m \u001b[31m?\u001b[0m eta \u001b[36m-:--:--\u001b[0m\r\u001b[2K   \u001b[90m━━━━━━━━━━━━━━━━━━━━━━━━━━━━━━━━━━━━━━━━\u001b[0m \u001b[32m55.3/55.3 kB\u001b[0m \u001b[31m4.2 MB/s\u001b[0m eta \u001b[36m0:00:00\u001b[0m\n",
            "\u001b[?25h\u001b[?25l   \u001b[90m━━━━━━━━━━━━━━━━━━━━━━━━━━━━━━━━━━━━━━━━\u001b[0m \u001b[32m0.0/209.2 kB\u001b[0m \u001b[31m?\u001b[0m eta \u001b[36m-:--:--\u001b[0m\r\u001b[2K   \u001b[90m━━━━━━━━━━━━━━━━━━━━━━━━━━━━━━━━━━━━━━━━\u001b[0m \u001b[32m209.2/209.2 kB\u001b[0m \u001b[31m9.4 MB/s\u001b[0m eta \u001b[36m0:00:00\u001b[0m\n",
            "\u001b[2K   \u001b[90m━━━━━━━━━━━━━━━━━━━━━━━━━━━━━━━━━━━━━━━━\u001b[0m \u001b[32m2.5/2.5 MB\u001b[0m \u001b[31m41.7 MB/s\u001b[0m eta \u001b[36m0:00:00\u001b[0m\n",
            "\u001b[2K   \u001b[90m━━━━━━━━━━━━━━━━━━━━━━━━━━━━━━━━━━━━━━━━\u001b[0m \u001b[32m414.3/414.3 kB\u001b[0m \u001b[31m27.9 MB/s\u001b[0m eta \u001b[36m0:00:00\u001b[0m\n",
            "\u001b[2K   \u001b[90m━━━━━━━━━━━━━━━━━━━━━━━━━━━━━━━━━━━━━━━━\u001b[0m \u001b[32m1.2/1.2 MB\u001b[0m \u001b[31m46.0 MB/s\u001b[0m eta \u001b[36m0:00:00\u001b[0m\n",
            "\u001b[2K   \u001b[90m━━━━━━━━━━━━━━━━━━━━━━━━━━━━━━━━━━━━━━━━\u001b[0m \u001b[32m50.9/50.9 kB\u001b[0m \u001b[31m4.1 MB/s\u001b[0m eta \u001b[36m0:00:00\u001b[0m\n",
            "\u001b[?25h"
          ]
        }
      ]
    },
    {
      "cell_type": "code",
      "source": [
        "import os\n",
        "import json\n",
        "from google.colab import userdata\n",
        "from langchain_openai import OpenAIEmbeddings\n",
        "from langchain.schema import Document\n",
        "from typing import List, Dict\n",
        "from aperturedb.Utils import Utils\n",
        "from langchain_community.vectorstores import ApertureDB\n",
        "from aperturedb.CommonLibrary import create_connector\n",
        "from pydantic import BaseModel\n",
        "from openai import OpenAI"
      ],
      "metadata": {
        "id": "FVSLnDE7q7cl"
      },
      "execution_count": null,
      "outputs": []
    },
    {
      "cell_type": "code",
      "source": [
        "os.environ[\"OPENAI_API_KEY\"] = userdata.get('OPENAI_KEY')"
      ],
      "metadata": {
        "id": "HhkD1AzA_izL"
      },
      "execution_count": null,
      "outputs": []
    },
    {
      "cell_type": "markdown",
      "source": [
        "## Connection to ApertureDB"
      ],
      "metadata": {
        "id": "L3z0uiy1gD3z"
      }
    },
    {
      "cell_type": "code",
      "source": [
        "!adb config create --active --from-json"
      ],
      "metadata": {
        "id": "nlGunnvU_p73"
      },
      "execution_count": null,
      "outputs": []
    },
    {
      "cell_type": "code",
      "source": [
        "# Create the connector for ApertureDB\n",
        "client = create_connector()\n",
        "\n",
        "# Use the connector to create a Utils object and print the summary\n",
        "utils = Utils(client)\n",
        "utils.summary()"
      ],
      "metadata": {
        "id": "hqV3mJ--_tGQ"
      },
      "execution_count": null,
      "outputs": []
    },
    {
      "cell_type": "code",
      "source": [
        "query = [{\n",
        "    \"GetStatus\": {\n",
        "    }\n",
        "}]\n",
        "\n",
        "# Execute the query to get back a JSON response for GetStatus\n",
        "response, blobs = client.query(query)\n",
        "\n",
        "client.print_last_response()"
      ],
      "metadata": {
        "id": "ssOnHxz4gBm6"
      },
      "execution_count": null,
      "outputs": []
    },
    {
      "cell_type": "markdown",
      "source": [
        "## Dataset"
      ],
      "metadata": {
        "id": "Wu7NU5neFOEw"
      }
    },
    {
      "cell_type": "code",
      "source": [
        "data = [{'Id': '1',\n",
        "  'content': 'Example Corp, the US-based maker of the popular Widget personal gizmo, has recently extended its worldwide distribution channels by partnering with AnyCompany Logistics, an international shipping, storage, and last-mile distribution provider. Widget is an AI-augmented personal desktop pet whose conversational capabilities are powered by a new breed of generative AI technologies. Developed in the Austin-based Example Corp labs, the toys are manufactured in Taiwan.',\n",
        "  'class': 'Article',\n",
        "  'publish_date': '2023-07-01',\n",
        "  'author': 'Example Corp',\n",
        "  'relation': ['3']},\n",
        " {'Id': '2',\n",
        "  'content': 'The UK’s Christmas top-10 toy predictions are already in, even though it’s only August, with industry analysts predicting huge demand for Example Corp’s Widget chatty desktop pet. Retailers in London, Manchester, and other major cities have already placed orders for over 1 million units, to the value of $15 million, and those numbers are only set to increase in the months leading up to Christmas.',\n",
        "  'class': 'Article',\n",
        "  'publish_date': '2023-08-01',\n",
        "  'author': 'Toy Industry Analyst',\n",
        "  'relation': ['4']},\n",
        " {'Id': '3',\n",
        "  'content': 'AnyCompany Logistics today announced that it is cutting shipping times from Taiwan to the UK from 2 weeks to just 3 days by directing all distribution through the recently opened Fictitious Canal. The Fictitious Canal is set to become one of the most heavily trafficked waterways over the next 5 years as manufacturers and distributors look to move from air to sea to cut energy spend and save costs.',\n",
        "  'class': 'Article',\n",
        "  'publish_date': '2023-07-15',\n",
        "  'author': 'AnyCompany Logistics',\n",
        "  'relation': ['4']},\n",
        " {'Id': '4',\n",
        "  'content': 'The Fictitious Canal continues to experience blockages and delays following landslips. Over 5 million tons of rock has now blocked the southern basin, trapping container vessels and disrupting international supply chains. Goods destined for Europe are expected to be delayed for several months, meaning that Christmas inventory for many retailers is under threat.',\n",
        "  'class': 'Article',\n",
        "  'publish_date': '2023-07-20',\n",
        "  'author': 'Shipping News',\n",
        "  'relation': []}]"
      ],
      "metadata": {
        "id": "QntjGaCEjip-"
      },
      "execution_count": null,
      "outputs": []
    },
    {
      "cell_type": "markdown",
      "source": [
        "## Ingestion"
      ],
      "metadata": {
        "id": "6K5T7tD5FQO6"
      }
    },
    {
      "cell_type": "code",
      "source": [
        "embeddings = OpenAIEmbeddings()"
      ],
      "metadata": {
        "id": "yKzegJwJN9vg"
      },
      "execution_count": null,
      "outputs": []
    },
    {
      "cell_type": "code",
      "source": [
        "def convert_to_langchain_docs(data: List[Dict]) -> List[Document]:\n",
        "    \"\"\"\n",
        "    Convert a list of dictionaries containing article data into LangChain Document objects.\n",
        "\n",
        "    Args:\n",
        "        data (List[Dict]): List of dictionaries containing article details.\n",
        "            Expected keys: \"Id\", \"content\", \"publish_date\", \"author\", and optionally \"relation\".\n",
        "        doc_ids (Dict[str, str]): Mapping of article IDs to UUIDs.\n",
        "\n",
        "    Returns:\n",
        "        List[Document]: List of LangChain Document objects.\n",
        "    \"\"\"\n",
        "    documents = []\n",
        "    for item in data:\n",
        "        metadata = {\n",
        "            \"id\": item.get(\"Id\"),\\\n",
        "            \"author\": item.get(\"author\"),\n",
        "            \"published_at\": item.get(\"publish_date\")\n",
        "        }\n",
        "        doc = Document(page_content=item.get(\"content\", \"\"), metadata=metadata)\n",
        "        documents.append(doc)\n",
        "\n",
        "    return documents"
      ],
      "metadata": {
        "id": "5YrG3LbNN7fz"
      },
      "execution_count": null,
      "outputs": []
    },
    {
      "cell_type": "code",
      "source": [
        "docs = convert_to_langchain_docs(data)"
      ],
      "metadata": {
        "id": "x-YfjfZAgW-O"
      },
      "execution_count": null,
      "outputs": []
    },
    {
      "cell_type": "code",
      "source": [
        "docs"
      ],
      "metadata": {
        "colab": {
          "base_uri": "https://localhost:8080/"
        },
        "id": "ZvmoDN3YBiwI",
        "outputId": "ed7c7601-179b-4a14-c291-bcffd25c31a9"
      },
      "execution_count": null,
      "outputs": [
        {
          "output_type": "execute_result",
          "data": {
            "text/plain": [
              "[Document(metadata={'id': '1', 'author': 'Example Corp', 'published_at': '2023-07-01'}, page_content='Example Corp, the US-based maker of the popular Widget personal gizmo, has recently extended its worldwide distribution channels by partnering with AnyCompany Logistics, an international shipping, storage, and last-mile distribution provider. Widget is an AI-augmented personal desktop pet whose conversational capabilities are powered by a new breed of generative AI technologies. Developed in the Austin-based Example Corp labs, the toys are manufactured in Taiwan.'),\n",
              " Document(metadata={'id': '2', 'author': 'Toy Industry Analyst', 'published_at': '2023-08-01'}, page_content='The UK’s Christmas top-10 toy predictions are already in, even though it’s only August, with industry analysts predicting huge demand for Example Corp’s Widget chatty desktop pet. Retailers in London, Manchester, and other major cities have already placed orders for over 1 million units, to the value of $15 million, and those numbers are only set to increase in the months leading up to Christmas.'),\n",
              " Document(metadata={'id': '3', 'author': 'AnyCompany Logistics', 'published_at': '2023-07-15'}, page_content='AnyCompany Logistics today announced that it is cutting shipping times from Taiwan to the UK from 2 weeks to just 3 days by directing all distribution through the recently opened Fictitious Canal. The Fictitious Canal is set to become one of the most heavily trafficked waterways over the next 5 years as manufacturers and distributors look to move from air to sea to cut energy spend and save costs.'),\n",
              " Document(metadata={'id': '4', 'author': 'Shipping News', 'published_at': '2023-07-20'}, page_content='The Fictitious Canal continues to experience blockages and delays following landslips. Over 5 million tons of rock has now blocked the southern basin, trapping container vessels and disrupting international supply chains. Goods destined for Europe are expected to be delayed for several months, meaning that Christmas inventory for many retailers is under threat.')]"
            ]
          },
          "metadata": {},
          "execution_count": 21
        }
      ]
    },
    {
      "cell_type": "code",
      "source": [
        "vector_db = ApertureDB.from_documents(docs, embeddings)"
      ],
      "metadata": {
        "id": "aaMuWL7MiFpB"
      },
      "execution_count": null,
      "outputs": []
    },
    {
      "cell_type": "code",
      "source": [
        "def add_articles_to_db(client, articles):\n",
        "    query = []\n",
        "\n",
        "    # Add each article as an entity.\n",
        "    for article in articles:\n",
        "        query.append({\n",
        "            \"AddEntity\": {\n",
        "                \"_ref\": int(article[\"Id\"][0]),\n",
        "                \"class\": \"Article\",\n",
        "                \"properties\": {\n",
        "                    \"Id\": int(article[\"Id\"][0]),\n",
        "                    \"content\": article[\"content\"],\n",
        "                    \"publish_date\": article[\"publish_date\"],\n",
        "                    \"author\": article[\"author\"]\n",
        "                },\n",
        "                \"if_not_found\": {\n",
        "                    \"Id\": [\"==\", int(article[\"Id\"][0])]\n",
        "                }\n",
        "            }\n",
        "        })\n",
        "\n",
        "    # Create connections based on the relationship field.\n",
        "    for article in articles:\n",
        "        for dst in article.get(\"relation\", []):\n",
        "            print(dst)\n",
        "            query.append({\n",
        "                \"AddConnection\": {\n",
        "                    \"class\": \"relationship\",\n",
        "                    \"src\": int(article[\"Id\"][0]),\n",
        "                    \"dst\": int(dst),\n",
        "                    \"properties\": {\"connected_to\": int(dst)}\n",
        "                }\n",
        "            })\n",
        "\n",
        "    # Execute the query and print the last response.\n",
        "    response, blobs = client.query(query)\n",
        "    client.print_last_response()\n",
        "    return response, blobs"
      ],
      "metadata": {
        "id": "nyPRCinMxW2H"
      },
      "execution_count": null,
      "outputs": []
    },
    {
      "cell_type": "code",
      "source": [
        "from langchain_community.vectorstores import ApertureDB\n",
        "vector_db = ApertureDB.from_documents(docs, embeddings)"
      ],
      "metadata": {
        "colab": {
          "base_uri": "https://localhost:8080/"
        },
        "outputId": "8d6b807e-8d7a-4271-9d23-6998621c50a7",
        "id": "WXQsum3mFUpS"
      },
      "execution_count": null,
      "outputs": [
        {
          "output_type": "stream",
          "name": "stderr",
          "text": [
            "WARNING:aperturedb.CommonLibrary:Utils.create_connector is deprecated and will be removed in a future release. Use CommonLibrary.create_connector instead.\n"
          ]
        }
      ]
    },
    {
      "cell_type": "code",
      "source": [
        "retriever = vector_db.as_retriever()"
      ],
      "metadata": {
        "id": "vbzwnEBtFUpT"
      },
      "execution_count": null,
      "outputs": []
    },
    {
      "cell_type": "code",
      "source": [
        "context = retriever.get_relevant_documents(\"What are the sales prospects for Example Corp in the UK?\")"
      ],
      "metadata": {
        "colab": {
          "base_uri": "https://localhost:8080/"
        },
        "outputId": "dedec414-f698-4cfd-8eaa-000cd4ab629d",
        "id": "KGctBlQwFUpX"
      },
      "execution_count": null,
      "outputs": [
        {
          "output_type": "stream",
          "name": "stderr",
          "text": [
            "WARNING:aperturedb.Connector:Connection broken. Reconnecting attempt [1/3] .. PID = 259\n"
          ]
        }
      ]
    },
    {
      "cell_type": "code",
      "source": [
        "context"
      ],
      "metadata": {
        "colab": {
          "base_uri": "https://localhost:8080/"
        },
        "id": "xLCuv8e_P35E",
        "outputId": "14cb6880-68bf-41dd-bd3b-5329cbdcd538"
      },
      "execution_count": null,
      "outputs": [
        {
          "output_type": "execute_result",
          "data": {
            "text/plain": [
              "[Document(id='956cedfb-d437-49e3-804a-052a6875cf1f', metadata={'author': 'Toy Industry Analyst', 'id': '2', 'published_at': '2023-08-01'}, page_content='The UK’s Christmas top-10 toy predictions are already in, even though it’s only August, with industry analysts predicting huge demand for Example Corp’s Widget chatty desktop pet. Retailers in London, Manchester, and other major cities have already placed orders for over 1 million units, to the value of $15 million, and those numbers are only set to increase in the months leading up to Christmas.'),\n",
              " Document(id='bd617b30-e58c-4603-9de5-259d335f2b0c', metadata={'author': 'Toy Industry Analyst', 'id': '2', 'published_at': '2023-08-01'}, page_content='The UK’s Christmas top-10 toy predictions are already in, even though it’s only August, with industry analysts predicting huge demand for Example Corp’s Widget chatty desktop pet. Retailers in London, Manchester, and other major cities have already placed orders for over 1 million units, to the value of $15 million, and those numbers are only set to increase in the months leading up to Christmas.'),\n",
              " Document(id='86b94387-902f-4223-b33f-4347c307f8b5', metadata={'author': 'Example Corp', 'id': '1', 'published_at': '2023-07-01'}, page_content='Example Corp, the US-based maker of the popular Widget personal gizmo, has recently extended its worldwide distribution channels by partnering with AnyCompany Logistics, an international shipping, storage, and last-mile distribution provider. Widget is an AI-augmented personal desktop pet whose conversational capabilities are powered by a new breed of generative AI technologies. Developed in the Austin-based Example Corp labs, the toys are manufactured in Taiwan.'),\n",
              " Document(id='62535f50-5bb3-42c0-944d-61c72e5d3d8e', metadata={'author': 'Example Corp', 'id': '1', 'published_at': '2023-07-01'}, page_content='Example Corp, the US-based maker of the popular Widget personal gizmo, has recently extended its worldwide distribution channels by partnering with AnyCompany Logistics, an international shipping, storage, and last-mile distribution provider. Widget is an AI-augmented personal desktop pet whose conversational capabilities are powered by a new breed of generative AI technologies. Developed in the Austin-based Example Corp labs, the toys are manufactured in Taiwan.')]"
            ]
          },
          "metadata": {},
          "execution_count": 79
        }
      ]
    },
    {
      "cell_type": "code",
      "source": [
        "def retrieve_with_multi_hop(client, query):\n",
        "    \"\"\"\n",
        "    Retrieves an article ID from the vector database and fetches all connected articles using multi-hop retrieval.\n",
        "\n",
        "    Args:\n",
        "        client: The API client used to execute queries.\n",
        "        query: The search query for initial document retrieval.\n",
        "\n",
        "    Returns:\n",
        "        A list of relevant article contents.\n",
        "    \"\"\"\n",
        "    retrieved_docs = retriever.get_relevant_documents(query)\n",
        "    if not retrieved_docs:\n",
        "        return []\n",
        "\n",
        "    start_id = retrieved_docs[0].metadata.get(\"Id\")\n",
        "\n",
        "    return multi_hop_article_content(client, start_id)"
      ],
      "metadata": {
        "id": "I-sqUvDfhUPa"
      },
      "execution_count": null,
      "outputs": []
    },
    {
      "cell_type": "code",
      "source": [
        "def multi_hop_article_content(client, start_id):\n",
        "    \"\"\"\n",
        "    Given a starting article id, fetches its content and then hops along the\n",
        "    'connected_to' chain until no further connection is found.\n",
        "\n",
        "    Args:\n",
        "        client: The API client used to execute queries.\n",
        "        start_id: The starting Article Id.\n",
        "\n",
        "    Returns:\n",
        "        A list of article content strings gathered from the hop chain.\n",
        "    \"\"\"\n",
        "    context = []       # List to hold the content of each Article\n",
        "    visited = set()    # To avoid loops\n",
        "    current_id = start_id\n",
        "\n",
        "    while current_id is not None and current_id not in visited:\n",
        "        visited.add(current_id)\n",
        "\n",
        "        # --- Step 1: Fetch the Article content ---\n",
        "        article_query = [{\n",
        "            \"FindEntity\": {\n",
        "                \"with_class\": \"Article\",\n",
        "                \"_ref\": 1,\n",
        "                \"constraints\": {\n",
        "                    \"Id\": [\"==\", current_id]\n",
        "                },\n",
        "                \"results\": {\n",
        "                    \"list\": [\"Id\", \"content\"]\n",
        "                }\n",
        "            }\n",
        "        }]\n",
        "        response, blobs = client.query(article_query)\n",
        "        article_result = response[0][\"FindEntity\"]\n",
        "        if article_result[\"returned\"] == 0:\n",
        "            # No article found; exit the loop.\n",
        "            break\n",
        "\n",
        "        article = article_result[\"entities\"][0]\n",
        "        content = article.get(\"content\", \"\")\n",
        "        context.append(content)\n",
        "\n",
        "        # --- Step 2: Find the next connection ---\n",
        "        connection_query = [{\n",
        "            \"FindEntity\": {\n",
        "                \"with_class\": \"Article\",\n",
        "                \"_ref\": 1,\n",
        "                \"constraints\": {\n",
        "                    \"Id\": [\"==\", current_id]\n",
        "                }\n",
        "            }\n",
        "        },{\n",
        "            \"FindConnection\": {\n",
        "                \"with_class\": \"relationship\",\n",
        "                \"src\": 1,\n",
        "                \"results\": {\n",
        "                    \"list\": [\"connected_to\"],\n",
        "                }\n",
        "            }\n",
        "        }]\n",
        "        response, blobs = client.query(connection_query)\n",
        "        connection_result = response[1][\"FindConnection\"]\n",
        "        connections = connection_result.get(\"connections\", [])\n",
        "\n",
        "        # Look for the first non-null 'connected_to' value.\n",
        "        next_id = None\n",
        "        for conn in connections:\n",
        "            if conn.get(\"connected_to\") is not None:\n",
        "                next_id = conn[\"connected_to\"]\n",
        "                break\n",
        "\n",
        "        # If no valid next connection, end the loop.\n",
        "        current_id = next_id\n",
        "\n",
        "    return context"
      ],
      "metadata": {
        "colab": {
          "base_uri": "https://localhost:8080/"
        },
        "id": "az8loy8mBjnI",
        "outputId": "9c63938f-4120-4c93-861d-beb81b91728c"
      },
      "execution_count": null,
      "outputs": [
        {
          "output_type": "stream",
          "name": "stdout",
          "text": [
            "{'entities': [{'Id': 1, 'content': 'Example Corp, the US-based maker of the popular Widget personal gizmo, has recently extended its worldwide distribution channels by partnering with AnyCompany Logistics, an international shipping, storage, and last-mile distribution provider. Widget is an AI-augmented personal desktop pet whose conversational capabilities are powered by a new breed of generative AI technologies. Developed in the Austin-based Example Corp labs, the toys are manufactured in Taiwan.'}], 'returned': 1, 'status': 0}\n",
            "{'entities': [{'Id': 3, 'content': 'AnyCompany Logistics today announced that it is cutting shipping times from Taiwan to the UK from 2 weeks to just 3 days by directing all distribution through the recently opened Fictitious Canal. The Fictitious Canal is set to become one of the most heavily trafficked waterways over the next 5 years as manufacturers and distributors look to move from air to sea to cut energy spend and save costs.'}], 'returned': 1, 'status': 0}\n",
            "{'entities': [{'Id': 4, 'content': 'The Fictitious Canal continues to experience blockages and delays following landslips. Over 5 million tons of rock has now blocked the southern basin, trapping container vessels and disrupting international supply chains. Goods destined for Europe are expected to be delayed for several months, meaning that Christmas inventory for many retailers is under threat.'}], 'returned': 1, 'status': 0}\n",
            "['Example Corp, the US-based maker of the popular Widget personal gizmo, has recently extended its worldwide distribution channels by partnering with AnyCompany Logistics, an international shipping, storage, and last-mile distribution provider. Widget is an AI-augmented personal desktop pet whose conversational capabilities are powered by a new breed of generative AI technologies. Developed in the Austin-based Example Corp labs, the toys are manufactured in Taiwan.', 'AnyCompany Logistics today announced that it is cutting shipping times from Taiwan to the UK from 2 weeks to just 3 days by directing all distribution through the recently opened Fictitious Canal. The Fictitious Canal is set to become one of the most heavily trafficked waterways over the next 5 years as manufacturers and distributors look to move from air to sea to cut energy spend and save costs.', 'The Fictitious Canal continues to experience blockages and delays following landslips. Over 5 million tons of rock has now blocked the southern basin, trapping container vessels and disrupting international supply chains. Goods destined for Europe are expected to be delayed for several months, meaning that Christmas inventory for many retailers is under threat.']\n"
          ]
        }
      ]
    },
    {
      "cell_type": "code",
      "source": [
        "def query_with_context(context, user_query, model=\"gpt-4o\"):\n",
        "    \"\"\"\n",
        "    Uses the gathered context and a user query to generate a response using OpenAI's API.\n",
        "\n",
        "    Args:\n",
        "        context (list of str): List of article contents from the multi-hop process.\n",
        "        user_query (str): The query to ask the assistant.\n",
        "        model (str): The model to use for chat completions.\n",
        "\n",
        "    Returns:\n",
        "        The response message from the assistant.\n",
        "    \"\"\"\n",
        "    client = OpenAI()\n",
        "\n",
        "    # Combine the context list into a single string. Separate each entry with two newlines\n",
        "\n",
        "    # Construct the messages for the chat completion.\n",
        "    messages = [\n",
        "        {\"role\": \"developer\", \"content\": \"You are a helpful assistant.\"},\n",
        "        {\"role\": \"system\", \"content\": f\"Here is some context gathered from our articles:\\n\\n{context}\"},\n",
        "        {\"role\": \"user\", \"content\": user_query}\n",
        "    ]\n",
        "\n",
        "    completion = client.chat.completions.create(\n",
        "        model=model,\n",
        "        messages=messages\n",
        "    )\n",
        "\n",
        "    return completion.choices[0].message"
      ],
      "metadata": {
        "id": "mygch02ehmaU"
      },
      "execution_count": null,
      "outputs": []
    },
    {
      "cell_type": "markdown",
      "source": [
        "## Graph RAG"
      ],
      "metadata": {
        "id": "M-517yu5iCCm"
      }
    },
    {
      "cell_type": "code",
      "source": [
        "query = \"What are the sales prospects for Example Corp in the UK?\"\n",
        "starting_context = retrieve_with_multi_hop(client, query)\n",
        "query_with_context(starting_context, query, model=\"gpt-4o\")"
      ],
      "metadata": {
        "colab": {
          "base_uri": "https://localhost:8080/"
        },
        "id": "ul8Y6r6zPCYo",
        "outputId": "751f33e6-08c4-4ca9-b622-49d33877bb84"
      },
      "execution_count": null,
      "outputs": [
        {
          "output_type": "execute_result",
          "data": {
            "text/plain": [
              "ChatCompletionMessage(content=\"The sales prospects for Example Corp in the UK may currently face challenges due to supply chain disruptions. While Example Corp recently partnered with AnyCompany Logistics to expand its worldwide distribution channels and reduce shipping times from Taiwan to the UK from 2 weeks to just 3 days, these plans have been affected by blockages and delays in the Fictitious Canal. The canal is experiencing landslips, which have trapped container vessels and disrupted supply chains. As a result, goods destined for Europe, including Example Corp's products, could face significant delays, potentially threatening inventory levels for UK retailers, especially during the critical holiday season. This disruption could impact sales negatively in the short term if Example Corp is unable to meet demand due to these shipping issues.\", refusal=None, role='assistant', audio=None, function_call=None, tool_calls=None)"
            ]
          },
          "metadata": {},
          "execution_count": 81
        }
      ]
    },
    {
      "cell_type": "markdown",
      "source": [
        "## Vanilla RAG"
      ],
      "metadata": {
        "id": "KnPe9eqHh8TP"
      }
    },
    {
      "cell_type": "code",
      "source": [
        "query_with_context(context, \"What are the sales prospects for Example Corp in the UK?\", model=\"gpt-4o\")"
      ],
      "metadata": {
        "colab": {
          "base_uri": "https://localhost:8080/"
        },
        "id": "xlnn3OaFPx1O",
        "outputId": "28840105-2413-435f-8e7f-8fa292aa08f4"
      },
      "execution_count": null,
      "outputs": [
        {
          "output_type": "execute_result",
          "data": {
            "text/plain": [
              "ChatCompletionMessage(content='The sales prospects for Example Corp in the UK look quite promising. According to industry analysts, there is a predicted huge demand for Example Corp’s Widget chatty desktop pet. Retailers in major UK cities like London and Manchester have already placed significant orders for over 1 million units, valued at $15 million. These numbers are expected to increase as the Christmas season approaches, indicating strong sales prospects for Example Corp in this market.', refusal=None, role='assistant', audio=None, function_call=None, tool_calls=None)"
            ]
          },
          "metadata": {},
          "execution_count": 82
        }
      ]
    }
  ]
}
